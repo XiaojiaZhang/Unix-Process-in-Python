{
 "cells": [
  {
   "cell_type": "markdown",
   "metadata": {},
   "source": [
    "## <div style=\"text-align: right\">   第13章 </div>\n",
    "\n",
    "##  <div style=\"text-align: right\"> 友好的进程</div>\n",
    "___"
   ]
  },
  {
   "cell_type": "markdown",
   "metadata": {},
   "source": [
    "我们暂时把代码搁在一边，来讨论一个更高层次的概念。"
   ]
  },
  {
   "cell_type": "markdown",
   "metadata": {},
   "source": [
    "### 13.1 对CoW好点"
   ]
  },
  {
   "cell_type": "markdown",
   "metadata": {},
   "source": [
    "正如我们在讲解进程衍生那章所提到的一样， _fork(2)_ 创建了一个和父进程一模一样的子进程。它包含了父进程在内存中的一切内容。\n",
    "\n",
    "实实在在地复制所有的数据产生的系统开销不容小觑，因此现代的Unix系统采用了写时复制（copy-on-write，CoW)的方法来克服这个问题。\n",
    "\n",
    "顾名思义，CoW将实际的内容复制操作推迟到了真正需要写入的时候。\n",
    "\n",
    "所以说父进程和子进程实际上是在共享内存中的数据，知道它们其中的某一个需要对数据进行修改，届时才会进行内存复制，使得两个进程保持适当的隔离。"
   ]
  },
  {
   "cell_type": "markdown",
   "metadata": {},
   "source": [
    "```python\n",
    "import os\n",
    "\n",
    "arr = [1, 2, 3]\n",
    "\n",
    "if os.fork() == 0:\n",
    "    # 此时子进程已经完成初始化\n",
    "    # 借助CoW，子进程并不需要复制变量arr，因为它并没有修改任何共享变量，\n",
    "    # 因此可以继续从和父进程同样的内存位置中进行读取。\n",
    "```"
   ]
  },
  {
   "cell_type": "markdown",
   "metadata": {},
   "source": [
    "```python\n",
    "import os\n",
    "\n",
    "arr = [1, 2, 3]\n",
    "\n",
    "if os.fork() == 0:\n",
    "        # 此时子进程已经完成初始化\n",
    "        # 由于CoW，arr不会被复制\n",
    "        arr.append(4)\n",
    "        # 上面的代码修改了数组，因此在进行修改之前需要为子进程创建一个该列表的副本。\n",
    "        # 父进程中的这个列表不会收到影响。\n",
    "```"
   ]
  },
  {
   "cell_type": "markdown",
   "metadata": {},
   "source": [
    "在使用 _fork(2)_ 时，这可是个了不得的优势，因为它节省了资源。由于不需要对父进程的内存内容进行即刻复制，这意味着 _fork(2)_ 的执行速度很快。也同样意味着子进程只获得了它所需要的那部分数据的副本，其余的部分仍然可以共享。"
   ]
  },
  {
   "cell_type": "markdown",
   "metadata": {},
   "source": [
    "> 对于python中的copy-to-write的更多讨论，可以参见stackoverflow上的[此条回答](https://stackoverflow.com/questions/14749897/python-multiprocessing-memory-usage)，"
   ]
  }
 ],
 "metadata": {
  "kernelspec": {
   "display_name": "process_learn",
   "language": "python",
   "name": "process_learn"
  },
  "language_info": {
   "codemirror_mode": {
    "name": "ipython",
    "version": 3
   },
   "file_extension": ".py",
   "mimetype": "text/x-python",
   "name": "python",
   "nbconvert_exporter": "python",
   "pygments_lexer": "ipython3",
   "version": "3.7.2"
  }
 },
 "nbformat": 4,
 "nbformat_minor": 2
}
