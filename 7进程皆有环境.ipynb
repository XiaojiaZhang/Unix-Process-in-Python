{
 "cells": [
  {
   "cell_type": "markdown",
   "metadata": {},
   "source": [
    "## <div style=\"text-align: right\">   第7章 </div>\n",
    "\n",
    "##  <div style=\"text-align: right\"> 进程皆有环境</div>\n",
    "___"
   ]
  },
  {
   "cell_type": "markdown",
   "metadata": {},
   "source": [
    "这里所说的环境，指的是“环境变量”。环境变量是包含进程数据的键值对（key-value pairs）。"
   ]
  },
  {
   "cell_type": "markdown",
   "metadata": {},
   "source": [
    "所有进程都从其父进程继承环境变量。它们由父进程设置并被子进程所继承。每一个进程都有环境变量，环境变量对于特定进程而言是全局性的。"
   ]
  },
  {
   "cell_type": "markdown",
   "metadata": {},
   "source": [
    "下面是一个简单的例子，演示了在bashshell中设置了一个环境变量，启动一个bash shell并导出一个环境变量。接着，启动一个python子进程并读取该\n",
    "环境变量。"
   ]
  },
  {
   "cell_type": "markdown",
   "metadata": {},
   "source": [
    "![read_env_var](figure/read_env_var.png)"
   ]
  },
  {
   "cell_type": "markdown",
   "metadata": {},
   "source": [
    "VAR=value这种语法是bash设置变量是的方法，注意到父进程中的变量必须使用export命令进行导出才能被子进程所继承。"
   ]
  },
  {
   "cell_type": "markdown",
   "metadata": {},
   "source": [
    "> 关于环境变量，仍然有几点值得在此处指出\n",
    "1. 未被导出的变量是局部变量，子进程并不知道这些变量的存在\n",
    "2. 导出的变量及其值会被复制到子进程中，由于只是父进程变量的一个副本，因此在子进程中对这些变量的更改并不会影响到父进程\n",
    "3. 导出变量不仅保持在直接生成的子进程中，由这些子进程所产生的子进程同样能够访问导出变量。"
   ]
  },
  {
   "cell_type": "markdown",
   "metadata": {},
   "source": [
    "![read_env_var2](figure/read_env_var3.png)"
   ]
  },
  {
   "cell_type": "markdown",
   "metadata": {},
   "source": [
    "> 另一种向子进程传递变量的方式如上所示，但是在这种方法中，变量仅存在于python进程运行期间，当该子进程结束后。该变量不复存在。\n",
    "上例可以看出，在退出python后，MESSAGE变量为空。\n",
    "\n",
    "> 原书中未明确指出这种问题，而是在讲解子进程继承父进程环境变量时展示这种方法，个人认为是不正确的"
   ]
  },
  {
   "cell_type": "markdown",
   "metadata": {},
   "source": [
    "\n",
    "在bash中，变量使用`$VAR`来访问，从例子中可以看到，环境变量能够用于在执行不同语言（此处是bash 和pyhton）的进程之间共享状态。"
   ]
  },
  {
   "cell_type": "markdown",
   "metadata": {},
   "source": [
    "### 7.1 实践领域"
   ]
  },
  {
   "cell_type": "markdown",
   "metadata": {},
   "source": [
    "在实践操作中，环境变量有很多中用法。其经常被作为一种输入传递到命令行程序中的通用方法。所有的终端（Unix或Windows）均已支持环境变量，而求\n",
    "大多数程序员对此颇为熟悉。比起解析命令行选项，使用环境变量的开销通常更小一些。"
   ]
  },
  {
   "cell_type": "markdown",
   "metadata": {},
   "source": [
    "### 7.2 系统调用"
   ]
  },
  {
   "cell_type": "markdown",
   "metadata": {},
   "source": [
    "系统调用不能直接操作环境变量，不过C库函数 _setenv(3) 和 _getenv(3)_ 却可以完成这样的工作。相关内容请参考 _environ(7)_。"
   ]
  }
 ],
 "metadata": {
  "kernelspec": {
   "display_name": "Python 3",
   "language": "python",
   "name": "python3"
  },
  "language_info": {
   "codemirror_mode": {
    "name": "ipython",
    "version": 3
   },
   "file_extension": ".py",
   "mimetype": "text/x-python",
   "name": "python",
   "nbconvert_exporter": "python",
   "pygments_lexer": "ipython3",
   "version": "3.7.0"
  }
 },
 "nbformat": 4,
 "nbformat_minor": 2
}
