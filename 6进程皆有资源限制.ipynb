{
 "cells": [
  {
   "cell_type": "markdown",
   "metadata": {},
   "source": [
    "## <div style=\"text-align: right\">   第6章 </div>\n",
    "\n",
    "##  <div style=\"text-align: right\"> 进程皆有资源限制 </div>\n",
    "\n",
    "___"
   ]
  },
  {
   "cell_type": "markdown",
   "metadata": {},
   "source": [
    "在上一章我们了解到了这样一个事实：文件描述符代表已打开的资源。你可能注意到当资源没有被关闭时，文件描述符一直处于递增的状态。这就产生一个问题：一个进程可以拥有多少个文件描述符？\n",
    "\n",
    "答案取决于你的系统配置，不过重要的一点是：**内核为进程施加了某些资源限制**。"
   ]
  },
  {
   "cell_type": "markdown",
   "metadata": {},
   "source": [
    "### 6.1 找出限制"
   ]
  },
  {
   "cell_type": "markdown",
   "metadata": {},
   "source": [
    "让我们继续文件描述符的话题。我们可以使用python来查询所允许的最大的文件描述符编号："
   ]
  },
  {
   "cell_type": "code",
   "execution_count": 1,
   "metadata": {},
   "outputs": [
    {
     "data": {
      "text/plain": [
       "(1024, 4096)"
      ]
     },
     "execution_count": 1,
     "metadata": {},
     "output_type": "execute_result"
    }
   ],
   "source": [
    "import psutil\n",
    "p = psutil.Process()\n",
    "p.rlimit(psutil.RLIMIT_NOFILE)"
   ]
  },
  {
   "cell_type": "markdown",
   "metadata": {},
   "source": [
    "我们传入一个常量PLIMIT_NOFILE到进程的rlimit方法中查询进程\n",
    "所能打开的最大文件数。它返回了一个包含两个元素的元组。\n",
    "\n",
    "元组的第一个元素是文件描述符的软限制（soft limit），第二个元素是文件描述的硬限制（hard limit）。"
   ]
  },
  {
   "cell_type": "markdown",
   "metadata": {},
   "source": [
    "### 6.2 软限制与硬限制"
   ]
  },
  {
   "cell_type": "markdown",
   "metadata": {},
   "source": [
    "两者有什么不同吗？问的好，软限制其实算不上一种限制。也就是说如果超出了软限制（在这里指一次性打开超过1024个资源），将会产生异常。不过只要你愿意，就可以修改这个限制。\n",
    "\n",
    "所以说任何进程都可以修改自身的软限制，但是对于硬限制呢？通称情况下，只有超级用户能够修改硬限制。不过如果进程有足够的权限，\n",
    "那么也可以修改硬限制。如果你对更改系统级别的限制感兴趣，可以查看 _sysctl(8)_ 。"
   ]
  },
  {
   "cell_type": "markdown",
   "metadata": {},
   "source": [
    "### 6.3  提高软限制"
   ]
  },
  {
   "cell_type": "markdown",
   "metadata": {},
   "source": [
    "让我们试着提高当前的软限制："
   ]
  },
  {
   "cell_type": "code",
   "execution_count": 2,
   "metadata": {},
   "outputs": [
    {
     "data": {
      "text/plain": [
       "(4096, 4096)"
      ]
     },
     "execution_count": 2,
     "metadata": {},
     "output_type": "execute_result"
    }
   ],
   "source": [
    "p.rlimit(psutil.RLIMIT_NOFILE, (4096, 4096))\n",
    "p.rlimit(psutil.RLIMIT_NOFILE)"
   ]
  },
  {
   "cell_type": "markdown",
   "metadata": {},
   "source": [
    "可以看到，我们为可打开的文件数量设置了一个新限制，\n",
    "再次查询发现软限制和硬限制都设成了新值4096。"
   ]
  },
  {
   "cell_type": "markdown",
   "metadata": {},
   "source": [
    "如果我们有足够的权限，我们便可以提高进程的硬限制。但反过来，\n",
    "降低进程的硬限制并不需要什么权限，但要注意对硬限制的\n",
    "降低是不可逆转的——一旦调低，就没法再调高。"
   ]
  },
  {
   "cell_type": "code",
   "execution_count": 4,
   "metadata": {},
   "outputs": [
    {
     "data": {
      "text/plain": [
       "(128, 128)"
      ]
     },
     "execution_count": 4,
     "metadata": {},
     "output_type": "execute_result"
    }
   ],
   "source": [
    "p.rlimit(psutil.RLIMIT_NOFILE, (128, 128))\n",
    "p.rlimit(psutil.RLIMIT_NOFILE)"
   ]
  },
  {
   "cell_type": "code",
   "execution_count": 7,
   "metadata": {},
   "outputs": [
    {
     "ename": "AccessDenied",
     "evalue": "psutil.AccessDenied (pid=28619)",
     "output_type": "error",
     "traceback": [
      "\u001b[0;31m---------------------------------------------------------------------------\u001b[0m",
      "\u001b[0;31mPermissionError\u001b[0m                           Traceback (most recent call last)",
      "\u001b[0;32m~/anaconda3/lib/python3.7/site-packages/psutil/_pslinux.py\u001b[0m in \u001b[0;36mwrapper\u001b[0;34m(self, *args, **kwargs)\u001b[0m\n\u001b[1;32m   1507\u001b[0m         \u001b[0;32mtry\u001b[0m\u001b[0;34m:\u001b[0m\u001b[0;34m\u001b[0m\u001b[0m\n\u001b[0;32m-> 1508\u001b[0;31m             \u001b[0;32mreturn\u001b[0m \u001b[0mfun\u001b[0m\u001b[0;34m(\u001b[0m\u001b[0mself\u001b[0m\u001b[0;34m,\u001b[0m \u001b[0;34m*\u001b[0m\u001b[0margs\u001b[0m\u001b[0;34m,\u001b[0m \u001b[0;34m**\u001b[0m\u001b[0mkwargs\u001b[0m\u001b[0;34m)\u001b[0m\u001b[0;34m\u001b[0m\u001b[0m\n\u001b[0m\u001b[1;32m   1509\u001b[0m         \u001b[0;32mexcept\u001b[0m \u001b[0mEnvironmentError\u001b[0m \u001b[0;32mas\u001b[0m \u001b[0merr\u001b[0m\u001b[0;34m:\u001b[0m\u001b[0;34m\u001b[0m\u001b[0m\n",
      "\u001b[0;32m~/anaconda3/lib/python3.7/site-packages/psutil/_pslinux.py\u001b[0m in \u001b[0;36mrlimit\u001b[0;34m(self, resource, limits)\u001b[0m\n\u001b[1;32m   2009\u001b[0m                     \u001b[0msoft\u001b[0m\u001b[0;34m,\u001b[0m \u001b[0mhard\u001b[0m \u001b[0;34m=\u001b[0m \u001b[0mlimits\u001b[0m\u001b[0;34m\u001b[0m\u001b[0m\n\u001b[0;32m-> 2010\u001b[0;31m                     \u001b[0mcext\u001b[0m\u001b[0;34m.\u001b[0m\u001b[0mlinux_prlimit\u001b[0m\u001b[0;34m(\u001b[0m\u001b[0mself\u001b[0m\u001b[0;34m.\u001b[0m\u001b[0mpid\u001b[0m\u001b[0;34m,\u001b[0m \u001b[0mresource\u001b[0m\u001b[0;34m,\u001b[0m \u001b[0msoft\u001b[0m\u001b[0;34m,\u001b[0m \u001b[0mhard\u001b[0m\u001b[0;34m)\u001b[0m\u001b[0;34m\u001b[0m\u001b[0m\n\u001b[0m\u001b[1;32m   2011\u001b[0m             \u001b[0;32mexcept\u001b[0m \u001b[0mOSError\u001b[0m \u001b[0;32mas\u001b[0m \u001b[0merr\u001b[0m\u001b[0;34m:\u001b[0m\u001b[0;34m\u001b[0m\u001b[0m\n",
      "\u001b[0;31mPermissionError\u001b[0m: [Errno 1] Operation not permitted",
      "\nDuring handling of the above exception, another exception occurred:\n",
      "\u001b[0;31mAccessDenied\u001b[0m                              Traceback (most recent call last)",
      "\u001b[0;32m<ipython-input-7-8ffefbfdf598>\u001b[0m in \u001b[0;36m<module>\u001b[0;34m()\u001b[0m\n\u001b[0;32m----> 1\u001b[0;31m \u001b[0mp\u001b[0m\u001b[0;34m.\u001b[0m\u001b[0mrlimit\u001b[0m\u001b[0;34m(\u001b[0m\u001b[0mpsutil\u001b[0m\u001b[0;34m.\u001b[0m\u001b[0mRLIMIT_NOFILE\u001b[0m\u001b[0;34m,\u001b[0m \u001b[0;34m(\u001b[0m\u001b[0;36m1024\u001b[0m\u001b[0;34m,\u001b[0m \u001b[0;36m1024\u001b[0m\u001b[0;34m)\u001b[0m\u001b[0;34m)\u001b[0m\u001b[0;34m\u001b[0m\u001b[0m\n\u001b[0m",
      "\u001b[0;32m~/anaconda3/lib/python3.7/site-packages/psutil/__init__.py\u001b[0m in \u001b[0;36mrlimit\u001b[0;34m(self, resource, limits)\u001b[0m\n\u001b[1;32m    787\u001b[0m                 \u001b[0;32mreturn\u001b[0m \u001b[0mself\u001b[0m\u001b[0;34m.\u001b[0m\u001b[0m_proc\u001b[0m\u001b[0;34m.\u001b[0m\u001b[0mrlimit\u001b[0m\u001b[0;34m(\u001b[0m\u001b[0mresource\u001b[0m\u001b[0;34m)\u001b[0m\u001b[0;34m\u001b[0m\u001b[0m\n\u001b[1;32m    788\u001b[0m             \u001b[0;32melse\u001b[0m\u001b[0;34m:\u001b[0m\u001b[0;34m\u001b[0m\u001b[0m\n\u001b[0;32m--> 789\u001b[0;31m                 \u001b[0;32mreturn\u001b[0m \u001b[0mself\u001b[0m\u001b[0;34m.\u001b[0m\u001b[0m_proc\u001b[0m\u001b[0;34m.\u001b[0m\u001b[0mrlimit\u001b[0m\u001b[0;34m(\u001b[0m\u001b[0mresource\u001b[0m\u001b[0;34m,\u001b[0m \u001b[0mlimits\u001b[0m\u001b[0;34m)\u001b[0m\u001b[0;34m\u001b[0m\u001b[0m\n\u001b[0m\u001b[1;32m    790\u001b[0m \u001b[0;34m\u001b[0m\u001b[0m\n\u001b[1;32m    791\u001b[0m     \u001b[0;31m# Windows, Linux and FreeBSD only\u001b[0m\u001b[0;34m\u001b[0m\u001b[0;34m\u001b[0m\u001b[0m\n",
      "\u001b[0;32m~/anaconda3/lib/python3.7/site-packages/psutil/_pslinux.py\u001b[0m in \u001b[0;36mwrapper\u001b[0;34m(self, *args, **kwargs)\u001b[0m\n\u001b[1;32m   1509\u001b[0m         \u001b[0;32mexcept\u001b[0m \u001b[0mEnvironmentError\u001b[0m \u001b[0;32mas\u001b[0m \u001b[0merr\u001b[0m\u001b[0;34m:\u001b[0m\u001b[0;34m\u001b[0m\u001b[0m\n\u001b[1;32m   1510\u001b[0m             \u001b[0;32mif\u001b[0m \u001b[0merr\u001b[0m\u001b[0;34m.\u001b[0m\u001b[0merrno\u001b[0m \u001b[0;32min\u001b[0m \u001b[0;34m(\u001b[0m\u001b[0merrno\u001b[0m\u001b[0;34m.\u001b[0m\u001b[0mEPERM\u001b[0m\u001b[0;34m,\u001b[0m \u001b[0merrno\u001b[0m\u001b[0;34m.\u001b[0m\u001b[0mEACCES\u001b[0m\u001b[0;34m)\u001b[0m\u001b[0;34m:\u001b[0m\u001b[0;34m\u001b[0m\u001b[0m\n\u001b[0;32m-> 1511\u001b[0;31m                 \u001b[0;32mraise\u001b[0m \u001b[0mAccessDenied\u001b[0m\u001b[0;34m(\u001b[0m\u001b[0mself\u001b[0m\u001b[0;34m.\u001b[0m\u001b[0mpid\u001b[0m\u001b[0;34m,\u001b[0m \u001b[0mself\u001b[0m\u001b[0;34m.\u001b[0m\u001b[0m_name\u001b[0m\u001b[0;34m)\u001b[0m\u001b[0;34m\u001b[0m\u001b[0m\n\u001b[0m\u001b[1;32m   1512\u001b[0m             \u001b[0;31m# ESRCH (no such process) can be raised on read() if\u001b[0m\u001b[0;34m\u001b[0m\u001b[0;34m\u001b[0m\u001b[0m\n\u001b[1;32m   1513\u001b[0m             \u001b[0;31m# process is gone in the meantime.\u001b[0m\u001b[0;34m\u001b[0m\u001b[0;34m\u001b[0m\u001b[0m\n",
      "\u001b[0;31mAccessDenied\u001b[0m: psutil.AccessDenied (pid=28619)"
     ]
    }
   ],
   "source": [
    "p.rlimit(psutil.RLIMIT_NOFILE, (1024, 1024))"
   ]
  },
  {
   "cell_type": "markdown",
   "metadata": {},
   "source": [
    "可以看到，当我们将进程硬限制降低到128后，如果想再次调高到1024,便会产生异常，只能不断的降低。"
   ]
  },
  {
   "cell_type": "code",
   "execution_count": 8,
   "metadata": {},
   "outputs": [
    {
     "data": {
      "text/plain": [
       "(100, 100)"
      ]
     },
     "execution_count": 8,
     "metadata": {},
     "output_type": "execute_result"
    }
   ],
   "source": [
    "p.rlimit(psutil.RLIMIT_NOFILE, (100, 100))\n",
    "p.rlimit(psutil.RLIMIT_NOFILE)"
   ]
  },
  {
   "cell_type": "markdown",
   "metadata": {},
   "source": [
    "接下来的例子是一个将系统资源的软限制提高至硬限制水平，即所允许的最大值的常用方法。"
   ]
  },
  {
   "cell_type": "code",
   "execution_count": 9,
   "metadata": {},
   "outputs": [],
   "source": [
    "max_nofile = p.rlimit(psutil.RLIMIT_NOFILE)[1]\n",
    "p.rlimit(psutil.RLIMIT_NOFILE, (max_nofile, max_nofile))"
   ]
  },
  {
   "cell_type": "markdown",
   "metadata": {},
   "source": [
    "### 6.4 超出限制"
   ]
  },
  {
   "cell_type": "markdown",
   "metadata": {},
   "source": [
    "要注意的是，如果超出了限制，则会抛出异常。"
   ]
  },
  {
   "cell_type": "code",
   "execution_count": 2,
   "metadata": {},
   "outputs": [
    {
     "name": "stderr",
     "output_type": "stream",
     "text": [
      "Exception in thread IPythonHistorySavingThread:\n",
      "Traceback (most recent call last):\n",
      "  File \"/home/xiaojia/anaconda3/lib/python3.7/site-packages/IPython/core/history.py\", line 834, in run\n",
      "  File \"<decorator-gen-23>\", line 2, in writeout_cache\n",
      "  File \"/home/xiaojia/anaconda3/lib/python3.7/site-packages/IPython/core/history.py\", line 58, in needs_sqlite\n",
      "  File \"/home/xiaojia/anaconda3/lib/python3.7/site-packages/IPython/core/history.py\", line 780, in writeout_cache\n",
      "  File \"/home/xiaojia/anaconda3/lib/python3.7/site-packages/IPython/core/history.py\", line 764, in _writeout_input_cache\n",
      "sqlite3.OperationalError: unable to open database file\n",
      "\n",
      "During handling of the above exception, another exception occurred:\n",
      "\n",
      "Traceback (most recent call last):\n",
      "  File \"/home/xiaojia/anaconda3/lib/python3.7/site-packages/ipykernel/iostream.py\", line 97, in _event_pipe\n",
      "AttributeError: '_thread._local' object has no attribute 'event_pipe'\n",
      "\n",
      "During handling of the above exception, another exception occurred:\n",
      "\n",
      "Traceback (most recent call last):\n",
      "  File \"/home/xiaojia/anaconda3/lib/python3.7/threading.py\", line 917, in _bootstrap_inner\n",
      "  File \"<decorator-gen-24>\", line 2, in run\n",
      "  File \"/home/xiaojia/anaconda3/lib/python3.7/site-packages/IPython/core/history.py\", line 58, in needs_sqlite\n",
      "  File \"/home/xiaojia/anaconda3/lib/python3.7/site-packages/IPython/core/history.py\", line 837, in run\n",
      "  File \"/home/xiaojia/anaconda3/lib/python3.7/site-packages/ipykernel/iostream.py\", line 400, in write\n",
      "  File \"/home/xiaojia/anaconda3/lib/python3.7/site-packages/ipykernel/iostream.py\", line 203, in schedule\n",
      "  File \"/home/xiaojia/anaconda3/lib/python3.7/site-packages/ipykernel/iostream.py\", line 101, in _event_pipe\n",
      "  File \"/home/xiaojia/anaconda3/lib/python3.7/site-packages/zmq/sugar/context.py\", line 146, in socket\n",
      "  File \"/home/xiaojia/anaconda3/lib/python3.7/site-packages/zmq/sugar/socket.py\", line 59, in __init__\n",
      "  File \"zmq/backend/cython/socket.pyx\", line 328, in zmq.backend.cython.socket.Socket.__init__\n",
      "zmq.error.ZMQError: Too many open files\n",
      "Unhandled exception in thread started by <bound method Thread._bootstrap of <HistorySavingThread(IPythonHistorySavingThread, started 140658283108096)>>\n"
     ]
    },
    {
     "ename": "OSError",
     "evalue": "[Errno 24] Too many open files: 'new.txt'",
     "output_type": "error",
     "traceback": [
      "\u001b[0;31m---------------------------------------------------------------------------\u001b[0m",
      "\u001b[0;31mOSError\u001b[0m                                   Traceback (most recent call last)",
      "\u001b[0;32m<ipython-input-2-02d48a8e8a08>\u001b[0m in \u001b[0;36m<module>\u001b[0;34m()\u001b[0m\n\u001b[1;32m      2\u001b[0m \u001b[0;31m# 因为标准流已经占用了前三个文件描述符。\u001b[0m\u001b[0;34m\u001b[0m\u001b[0;34m\u001b[0m\u001b[0m\n\u001b[1;32m      3\u001b[0m \u001b[0mp\u001b[0m\u001b[0;34m.\u001b[0m\u001b[0mrlimit\u001b[0m\u001b[0;34m(\u001b[0m\u001b[0mpsutil\u001b[0m\u001b[0;34m.\u001b[0m\u001b[0mRLIMIT_NOFILE\u001b[0m\u001b[0;34m,\u001b[0m \u001b[0;34m(\u001b[0m\u001b[0;36m4\u001b[0m\u001b[0;34m,\u001b[0m\u001b[0;36m4\u001b[0m\u001b[0;34m)\u001b[0m\u001b[0;34m)\u001b[0m\u001b[0;34m\u001b[0m\u001b[0m\n\u001b[0;32m----> 4\u001b[0;31m \u001b[0mnew_file\u001b[0m \u001b[0;34m=\u001b[0m \u001b[0mopen\u001b[0m\u001b[0;34m(\u001b[0m\u001b[0;34m'new.txt'\u001b[0m\u001b[0;34m,\u001b[0m \u001b[0;34m'w'\u001b[0m\u001b[0;34m)\u001b[0m\u001b[0;34m\u001b[0m\u001b[0m\n\u001b[0m",
      "\u001b[0;31mOSError\u001b[0m: [Errno 24] Too many open files: 'new.txt'"
     ]
    }
   ],
   "source": [
    "# 将可以打开的最大文件数设置为3, 我们知道这会超出最大限制，\n",
    "# 因为标准流已经占用了前三个文件描述符。\n",
    "p.rlimit(psutil.RLIMIT_NOFILE, (4,4))\n",
    "new_file = open('new.txt', 'w')"
   ]
  },
  {
   "cell_type": "markdown",
   "metadata": {},
   "source": [
    "> 注意到，在上述命令中，即便我们将软限制设置为4,新打开文件时仍然会产生异常，这是因为jupyter-notebook\n",
    " 进程自己启动时会打开多个文件用于提供相关服务，因此此时已经打开的文件数量不仅仅包括3个标准流文件"
   ]
  },
  {
   "cell_type": "markdown",
   "metadata": {},
   "source": [
    "### 6.5 其他资源"
   ]
  },
  {
   "cell_type": "markdown",
   "metadata": {},
   "source": [
    "你可以用了类似的方法来检查及修改其他的资源限制，通过向rlimit方法中传入其他类型的常量，一些常见的例子如下："
   ]
  },
  {
   "cell_type": "code",
   "execution_count": 3,
   "metadata": {},
   "outputs": [
    {
     "name": "stdout",
     "output_type": "stream",
     "text": [
      "(47647, 47647)\n",
      "(-1, -1)\n",
      "(8388608, -1)\n"
     ]
    }
   ],
   "source": [
    "# 当前用户所允许的最大并发进程数\n",
    "print(p.rlimit(psutil.RLIMIT_NPROC))\n",
    "\n",
    "# 可以创建的最大的文件\n",
    "print(p.rlimit(psutil.RLIMIT_FSIZE))\n",
    "\n",
    "# 用于进程栈的最大段的大小\n",
    "print(p.rlimit(psutil.RLIMIT_STACK))"
   ]
  },
  {
   "cell_type": "markdown",
   "metadata": {},
   "source": [
    "上述命令中，文件大小查询返回（-1, -1），表示文件可以无限大\n",
    "（在硬件资源允许的情况下），关于更多的资源限制，可以查看\n",
    "[prlimit(2)](https://linux.die.net/man/2/prlimit)。"
   ]
  },
  {
   "cell_type": "markdown",
   "metadata": {},
   "source": [
    "### 6.6 实践领域"
   ]
  },
  {
   "cell_type": "markdown",
   "metadata": {},
   "source": [
    "多数程序通常并不需要修改系统资源限制。但对于一些特殊的工具，这可是至关重要的。\n",
    "\n",
    "其中一种情况是某个进程需要处理成千上万的并发网络连接。例如http\n",
    "性能测试工具 _httperf(1)_ 。\n",
    "像`httperf --hog --server www --num-conn 5000`这样的命令\n",
    "会使得httperf() 创建5000个并发连接。由于默认的软限制，我的系统显然会出现问题。因此在进行正确的测试之前，httperf(1) 需要调高对应的软限制。\n",
    "\n",
    "另一个需要进行系统资源限制的实际用例是，在执行第三法代码并需要对其施加一些运行限制时。你可以对代码所属的进程设置限制，并取消修改这些限制的权限，这样就能确保其无法使用超出许可范围的资源数量。"
   ]
  },
  {
   "cell_type": "markdown",
   "metadata": {},
   "source": [
    "### 6.7 系统调用"
   ]
  },
  {
   "cell_type": "markdown",
   "metadata": {},
   "source": [
    "python中进程对象系统资源限制的访问和调整分别对应于\n",
    "_getrlimit(2)_ 及 _setrlimit(2)_ 。"
   ]
  }
 ],
 "metadata": {
  "kernelspec": {
   "display_name": "Python 3",
   "language": "python",
   "name": "python3"
  },
  "language_info": {
   "codemirror_mode": {
    "name": "ipython",
    "version": 3
   },
   "file_extension": ".py",
   "mimetype": "text/x-python",
   "name": "python",
   "nbconvert_exporter": "python",
   "pygments_lexer": "ipython3",
   "version": "3.7.0"
  }
 },
 "nbformat": 4,
 "nbformat_minor": 2
}
