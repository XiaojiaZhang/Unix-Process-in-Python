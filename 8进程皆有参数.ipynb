{
 "cells": [
  {
   "cell_type": "markdown",
   "metadata": {},
   "source": [
    "## <div style=\"text-align: right\">   第8章 </div>\n",
    "\n",
    "##  <div style=\"text-align: right\"> 进程皆有参数</div>\n",
    "___"
   ]
  },
  {
   "cell_type": "markdown",
   "metadata": {},
   "source": [
    "所有进程都可以访问名为argv的一个特殊数组。其他编程语言可能在实现方式上略微不同，但是都会有argv。"
   ]
  },
  {
   "cell_type": "markdown",
   "metadata": {},
   "source": [
    "argv是argument vector的缩写，换句话说就是一个参数向量或数组。它保存了在命令行中传递给当前进程的参数。下面是一个检查\n",
    "ARGV的例子，并传递了一些简单的选项。使用如下read_argv.py脚本文件读取并打印参数。"
   ]
  },
  {
   "cell_type": "markdown",
   "metadata": {},
   "source": [
    "```python\n",
    "import sys\n",
    "for i, arg in enumerate(sys.argv):\n",
    "\tprint('{}:{}'.format(i, arg))\n",
    "```"
   ]
  },
  {
   "cell_type": "markdown",
   "metadata": {},
   "source": [
    "![read argv](figure/read_argv.png)"
   ]
  },
  {
   "cell_type": "markdown",
   "metadata": {},
   "source": [
    "python中，sys模块中的argv变量保存了所有传进来的命令行参数，注意到第一个命令行参数是执行文件的名称，其余为我们所传递的三个参数。"
   ]
  },
  {
   "cell_type": "markdown",
   "metadata": {},
   "source": [
    "### 8.1 这是一个列表"
   ]
  },
  {
   "cell_type": "markdown",
   "metadata": {},
   "source": [
    "在python中，sys.argv将参数存储在一个列表结构中。你可以随意地从中添加、删除和更改元素。但如果它仅仅代表的是\n",
    "从命令行传入的参数，那就没有必要修改它。"
   ]
  },
  {
   "cell_type": "markdown",
   "metadata": {},
   "source": [
    "有些库会读取sys.argv来解析命令行选项。你可以在这些库读取之前，通过编程的方式对其进行修改，已在运行时更改命令选项。"
   ]
  },
  {
   "cell_type": "markdown",
   "metadata": {},
   "source": [
    "### 8.2 实践领域"
   ]
  },
  {
   "cell_type": "markdown",
   "metadata": {},
   "source": [
    "sys.argv最常见的用例大概就是将文件名传入程序。写一个在命令行中接收一个或多个文件名作为参数并进行处理的程序，这种做法很常见。\n",
    "\n",
    "其他的一些常见用例是解析命令行输入。python中最常用的是argparse库来解析命令行参数。\n",
    "\n",
    "既然你现在已经了解了sys.argv的工作原理，对于一些简单的命令行选项，就可以跳过额外的开销来手动进行解析。如果你想支持\n",
    "若干标志，可以直接使用列表操作来实现。"
   ]
  },
  {
   "cell_type": "markdown",
   "metadata": {},
   "source": [
    "```python\n",
    "import sys\n",
    "\n",
    "# 请求用户帮助了吗？\n",
    "'--help'  in sys.argv\n",
    "# 获取-c 选项的值\n",
    "sys.argv.index('-c') and sys.argv[sys.argv.index('-c')+1]\n",
    "```"
   ]
  }
 ],
 "metadata": {
  "kernelspec": {
   "display_name": "Python 3",
   "language": "python",
   "name": "python3"
  },
  "language_info": {
   "codemirror_mode": {
    "name": "ipython",
    "version": 3
   },
   "file_extension": ".py",
   "mimetype": "text/x-python",
   "name": "python",
   "nbconvert_exporter": "python",
   "pygments_lexer": "ipython3",
   "version": "3.7.0"
  }
 },
 "nbformat": 4,
 "nbformat_minor": 2
}
