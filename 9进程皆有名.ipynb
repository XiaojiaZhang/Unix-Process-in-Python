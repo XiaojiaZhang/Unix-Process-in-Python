{
 "cells": [
  {
   "cell_type": "markdown",
   "metadata": {},
   "source": [
    "## <div style=\"text-align: right\">   第9章 </div>\n",
    "\n",
    "##  <div style=\"text-align: right\"> 进程皆有名</div>\n",
    "___"
   ]
  },
  {
   "cell_type": "markdown",
   "metadata": {},
   "source": [
    "Unix进程几乎没有什么固有的方法来熟悉彼此的状态。\n",
    "\n",
    "程序员门对此已经找到了解决之道，并发明了像日志文件这样的方法。日志文件使得进程可以通过 向文件系统写入信息\n",
    "的方式来了解彼此的状态信息，不过这种操作属于文件系统层面，而非进程本身所固有的。\n",
    "\n",
    "与此类似，进程可以借助网络来打开套接字同其他进程进行通信。但是这也非运作在进程层面，因为它是依靠网络来实现的。\n",
    "\n",
    "有两种运作在进程自身层面上的机制可以用来互通信息。一个是进程名称，另一个退出码。"
   ]
  },
  {
   "cell_type": "markdown",
   "metadata": {},
   "source": [
    "### 9.1 进程命名"
   ]
  },
  {
   "cell_type": "markdown",
   "metadata": {},
   "source": [
    "系统中每一个进程都有名称。举例来说，当你启动一个jupyter-notebook会话，对应的进程就获得了“”的名称。进程名的妙处在于它可以\n",
    "在运行期间被修改并作为一种通信手段。"
   ]
  },
  {
   "cell_type": "markdown",
   "metadata": {},
   "source": [
    "在python中，可以借助`setporctitle`库来获取当前进程的名称或改变当前进程的名称。"
   ]
  },
  {
   "cell_type": "code",
   "execution_count": 4,
   "metadata": {},
   "outputs": [
    {
     "name": "stdout",
     "output_type": "stream",
     "text": [
      "jupyter:0\n",
      "jupyter:1\n",
      "jupyter:2\n",
      "jupyter:3\n",
      "jupyter:4\n"
     ]
    }
   ],
   "source": [
    "import setproctitle\n",
    "for i in range(5):\n",
    "    setproctitle.setproctitle('jupyter:{}'.format(i))\n",
    "    print(setproctitle.getproctitle())"
   ]
  },
  {
   "cell_type": "markdown",
   "metadata": {},
   "source": [
    "上述命令中，我们对当前进程名称进行了更改，并返回当前进程名称。}"
   ]
  },
  {
   "cell_type": "markdown",
   "metadata": {},
   "source": [
    "### 9.2 实践领域"
   ]
  },
  {
   "cell_type": "markdown",
   "metadata": {},
   "source": [
    "请阅读附录1“Resque如何管理进程”来了解如何在真实项目中应用本章所学的内容。"
   ]
  }
 ],
 "metadata": {
  "kernelspec": {
   "display_name": "process_learn",
   "language": "python",
   "name": "process_learn"
  },
  "language_info": {
   "codemirror_mode": {
    "name": "ipython",
    "version": 3
   },
   "file_extension": ".py",
   "mimetype": "text/x-python",
   "name": "python",
   "nbconvert_exporter": "python",
   "pygments_lexer": "ipython3",
   "version": "3.7.2"
  }
 },
 "nbformat": 4,
 "nbformat_minor": 2
}
