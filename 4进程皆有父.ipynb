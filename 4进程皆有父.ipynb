{
 "cells": [
  {
   "cell_type": "markdown",
   "metadata": {},
   "source": [
    "## <div style=\"text-align: right\">   第4章 </div>\n",
    "\n",
    "##  <div style=\"text-align: right\"> 进程皆有父 </div>\n",
    "\n",
    "___"
   ]
  },
  {
   "cell_type": "markdown",
   "metadata": {},
   "source": [
    "系统中运行的每一个进程都有对应的父进程。每个进程都知道其父进程的标识符（称为ppid）"
   ]
  },
  {
   "cell_type": "markdown",
   "metadata": {},
   "source": [
    "在多数情况下，特定进程的父进程就是调用它的那个进程。假设你是一名OSX用户，启动了终端并进入bash提示符。因为万物皆为进程，所以你刚才的举动便创建了一个新的终端进程，而新的终端进程有创建了一个bash进程。"
   ]
  },
  {
   "cell_type": "markdown",
   "metadata": {},
   "source": [
    "新创建的bash进程的父进程就是终端进程。如果你再从bash提示符中调用 _ls(1)_ ，那么bash便是ls进程的父进程。明白了吧！"
   ]
  },
  {
   "cell_type": "markdown",
   "metadata": {},
   "source": [
    "既然内核只和pid打交道，那么就有一种方法可以获得当前父进程的pid。在python中可以这样来做："
   ]
  },
  {
   "cell_type": "code",
   "execution_count": 6,
   "metadata": {},
   "outputs": [
    {
     "data": {
      "text/plain": [
       "24028"
      ]
     },
     "execution_count": 6,
     "metadata": {},
     "output_type": "execute_result"
    }
   ],
   "source": [
    "import psutil\n",
    "p = psutil.Process()\n",
    "p.ppid()"
   ]
  },
  {
   "cell_type": "markdown",
   "metadata": {},
   "source": [
    "> 注意，ppid是进程实例的方法而非属性"
   ]
  },
  {
   "cell_type": "markdown",
   "metadata": {},
   "source": [
    "### 4.1 交叉参考"
   ]
  },
  {
   "cell_type": "markdown",
   "metadata": {},
   "source": [
    "保持当前jupyter-notebook会话处于运行状态，在终端输入以下命令：\n",
    "\n",
    "```shell\n",
    "$ ps -p <ppid-of-jupyter-notebook-process>\n",
    "```"
   ]
  },
  {
   "cell_type": "markdown",
   "metadata": {},
   "source": [
    "![ppid](figure/ppid.png)"
   ]
  },
  {
   "cell_type": "markdown",
   "metadata": {},
   "source": [
    "上述命令会显示一个带有pid的名为ZMQbg/1的进程，这个pid的值和当前\n",
    "jupter-notebook会话父进程的pid一模一样。"
   ]
  },
  {
   "cell_type": "markdown",
   "metadata": {},
   "source": [
    "### 4.2 实践创新"
   ]
  },
  {
   "cell_type": "markdown",
   "metadata": {},
   "source": [
    "ppid在实际操作中并没有太大的用处，但它在检测守护进程中却发挥着重要的作用，后面的章节会涉及这方面的内容的知识"
   ]
  },
  {
   "cell_type": "markdown",
   "metadata": {},
   "source": [
    "### 4.3 系统调用"
   ]
  },
  {
   "cell_type": "markdown",
   "metadata": {},
   "source": [
    "python中进程实例的ppid方法对应着 _getppid(2)_ 。"
   ]
  }
 ],
 "metadata": {
  "kernelspec": {
   "display_name": "Python 3",
   "language": "python",
   "name": "python3"
  },
  "language_info": {
   "codemirror_mode": {
    "name": "ipython",
    "version": 3
   },
   "file_extension": ".py",
   "mimetype": "text/x-python",
   "name": "python",
   "nbconvert_exporter": "python",
   "pygments_lexer": "ipython3",
   "version": "3.7.0"
  }
 },
 "nbformat": 4,
 "nbformat_minor": 2
}
