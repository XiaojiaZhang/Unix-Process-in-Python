{
 "cells": [
  {
   "cell_type": "markdown",
   "metadata": {},
   "source": [
    "## <div style=\"text-align: right\">   第12章 </div>\n",
    "\n",
    "##  <div style=\"text-align: right\"> 孤儿进程</div>\n",
    "___"
   ]
  },
  {
   "cell_type": "markdown",
   "metadata": {},
   "source": [
    "### 12.1 失控"
   ]
  },
  {
   "cell_type": "markdown",
   "metadata": {},
   "source": [
    "在运行上一章的例程时你可能已经注意到了，如果涉及子进程，就不能再像我们已经习惯的那样从终端来控制一切。\n",
    "\n",
    "当通过终端启动单个进程时，通常只有这个进程向STDOUT写入，从键盘获取输入或是侦听Ctrl-C以待退出。\n",
    "\n",
    "一旦进程衍生出了子进程，这一切就变得不那么简单了。如果你按下Ctrl-C，哪一个进程应该退出？是全部退出还是只有父进程退出？"
   ]
  },
  {
   "cell_type": "markdown",
   "metadata": {},
   "source": [
    "了解这些问题还是有好处的，因为实际上还是很容易创建孤儿进程的。"
   ]
  },
  {
   "cell_type": "markdown",
   "metadata": {},
   "source": [
    "![subprocess](figure/subprocess.png)"
   ]
  },
  {
   "cell_type": "markdown",
   "metadata": {},
   "source": [
    "从终端执行以下程序，你会注意到父进程结束后，立刻返回到终端命令提示符下，此时终端被子进程输出到STDOUT的内容所重写！在进行进程衍生的时候，就会发生这些莫名奇妙的事情。"
   ]
  },
  {
   "cell_type": "markdown",
   "metadata": {},
   "source": [
    "### 12.2 弃子\n",
    "\n",
    "当父进程结束之后，子进程会怎样？\n",
    "\n",
    "简短的回答就是“安然无恙”。也就是说，操作系统并不会对子进程区别对待。因此父进程结束之后，子进程照常继续运行。父进程可不会带着子进程同归于尽。"
   ]
  },
  {
   "cell_type": "markdown",
   "metadata": {},
   "source": [
    "### 12.3 管理孤儿"
   ]
  },
  {
   "cell_type": "markdown",
   "metadata": {},
   "source": [
    "那么还能对孤儿进程进行管理吗？\n",
    "\n",
    "对于这个问题我们接触的有点早了，不过这涉及两个有意思的概念。\n",
    "\n",
    "第一个是守护线程。守护线程是一种长期运行的进程，为了能够一直保持运行，它们有意作为孤儿进程存在。在后面我们会对其进行详述。\n",
    "\n",
    "另一个是与脱离终端会话的进程进行通信。你可以使用Unix信号来做到这一点。同样我们会在随后的章节中详述。\n",
    "\n",
    "接下来我们很快就会详述如何正确管理和控制子进程。"
   ]
  }
 ],
 "metadata": {
  "kernelspec": {
   "display_name": "process_learn",
   "language": "python",
   "name": "process_learn"
  },
  "language_info": {
   "codemirror_mode": {
    "name": "ipython",
    "version": 3
   },
   "file_extension": ".py",
   "mimetype": "text/x-python",
   "name": "python",
   "nbconvert_exporter": "python",
   "pygments_lexer": "ipython3",
   "version": "3.7.2"
  }
 },
 "nbformat": 4,
 "nbformat_minor": 2
}
